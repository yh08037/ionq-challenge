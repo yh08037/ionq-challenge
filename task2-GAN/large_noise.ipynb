{
 "cells": [
  {
   "cell_type": "markdown",
   "metadata": {},
   "source": [
    "# Quantum GANs: The Patch Method"
   ]
  },
  {
   "cell_type": "markdown",
   "metadata": {},
   "source": [
    "## Module Imports"
   ]
  },
  {
   "cell_type": "code",
   "execution_count": 1,
   "metadata": {},
   "outputs": [],
   "source": [
    "# Library imports\n",
    "import math\n",
    "import random\n",
    "import numpy as np\n",
    "import pandas as pd\n",
    "import matplotlib.pyplot as plt\n",
    "import matplotlib.gridspec as gridspec\n",
    "import pennylane as qml\n",
    "\n",
    "# Pytorch imports\n",
    "import torch\n",
    "import torch.nn as nn\n",
    "import torch.nn.functional as F\n",
    "import torch.optim as optim\n",
    "import torchvision\n",
    "import torchvision.transforms as transforms\n",
    "from torch.utils.data import Dataset, DataLoader\n",
    "\n",
    "# Set the random seed for reproducibility\n",
    "seed = 42\n",
    "torch.manual_seed(seed)\n",
    "np.random.seed(seed)\n",
    "random.seed(seed)"
   ]
  },
  {
   "cell_type": "markdown",
   "metadata": {},
   "source": [
    "## Data"
   ]
  },
  {
   "cell_type": "code",
   "execution_count": 2,
   "metadata": {},
   "outputs": [],
   "source": [
    "color_channel = 1\n",
    "image_size = 256 "
   ]
  },
  {
   "cell_type": "code",
   "execution_count": 3,
   "metadata": {},
   "outputs": [],
   "source": [
    "class DigitsDataset(Dataset):\n",
    "    def __init__(self, digit_path, label_path, transform=None):\n",
    "        \n",
    "        image = (255 - np.load(digit_path)) / 255\n",
    "        label = np.load(label_path)\n",
    "\n",
    "        self.image = torch.tensor(image[label==0]).float().unsqueeze(1)\n",
    "        self.length = len(self.image)\n",
    "\n",
    "        self.transform = transform\n",
    "\n",
    "\n",
    "    def __len__(self):\n",
    "        return self.length\n",
    "\n",
    "    def __getitem__(self, idx):\n",
    "        if torch.is_tensor(idx):\n",
    "            idx = idx.tolist()\n",
    "        \n",
    "        image = self.image[idx, :, :]\n",
    "\n",
    "        if self.transform:\n",
    "            image = self.transform(image)\n",
    "        \n",
    "        return image, 0"
   ]
  },
  {
   "cell_type": "code",
   "execution_count": 4,
   "metadata": {},
   "outputs": [],
   "source": [
    "batch_size = 1\n",
    "\n",
    "dataset = DigitsDataset('data/digit_256.npy', 'data/label_256.npy')\n",
    "\n",
    "dataloader = torch.utils.data.DataLoader(\n",
    "    dataset, batch_size=batch_size, shuffle=True, drop_last=True\n",
    ")"
   ]
  },
  {
   "cell_type": "code",
   "execution_count": 5,
   "metadata": {},
   "outputs": [
    {
     "data": {
      "image/png": "[encoded data removed]",
      "text/plain": [
       "<Figure size 1200x1000 with 8 Axes>"
      ]
     },
     "metadata": {},
     "output_type": "display_data"
    }
   ],
   "source": [
    "plt.figure(figsize=(12,10))\n",
    "\n",
    "for i, idx in enumerate(random.sample(range(len(dataset)), 8)):\n",
    "    image = dataset[idx][0].permute(1, 2, 0)\n",
    "    plt.subplot(1,8,i+1)\n",
    "    plt.axis('off')\n",
    "    plt.imshow(image.numpy(), 'gray')\n",
    "\n",
    "plt.show()"
   ]
  },
  {
   "cell_type": "markdown",
   "metadata": {},
   "source": [
    "## Implementing the Discriminator"
   ]
  },
  {
   "cell_type": "code",
   "execution_count": 6,
   "metadata": {},
   "outputs": [],
   "source": [
    "class Discriminator(nn.Module):\n",
    "    \"\"\"Fully connected classical discriminator\"\"\"\n",
    "\n",
    "    def __init__(self):\n",
    "        super().__init__()\n",
    "\n",
    "        nc = color_channel\n",
    "        ndf = 1\n",
    "\n",
    "        self.conv1 = nn.Conv2d(\n",
    "            in_channels=nc,\n",
    "            out_channels=1, \n",
    "            kernel_size=4,\n",
    "            stride=4,\n",
    "            padding=0,\n",
    "            bias=False\n",
    "        )\n",
    "        self.relu1 = nn.LeakyReLU(0.2, inplace=True)\n",
    "\n",
    "        self.conv2 = nn.Conv2d(\n",
    "            in_channels=nc,\n",
    "            out_channels=1, \n",
    "            kernel_size=4,\n",
    "            stride=4,\n",
    "            padding=0,\n",
    "            bias=False\n",
    "        )\n",
    "        self.relu2 = nn.LeakyReLU(0.2, inplace=True)\n",
    "\n",
    "        self.conv3 = nn.Conv2d(\n",
    "            in_channels=nc,\n",
    "            out_channels=1, \n",
    "            kernel_size=4,\n",
    "            stride=4,\n",
    "            padding=0,\n",
    "            bias=False\n",
    "        )\n",
    "        self.relu3 = nn.LeakyReLU(0.2, inplace=True)\n",
    "\n",
    "        self.conv4 = nn.Conv2d(\n",
    "            in_channels=nc,\n",
    "            out_channels=1, \n",
    "            kernel_size=4,\n",
    "            stride=4,\n",
    "            padding=0,\n",
    "            bias=False\n",
    "        )\n",
    "\n",
    "        self.sigmoid = nn.Sigmoid()\n",
    "\n",
    "\n",
    "    def forward(self, x):\n",
    "        x = self.conv1(x)\n",
    "        x = self.relu1(x)\n",
    "\n",
    "        x = self.conv2(x)\n",
    "        x = self.relu2(x)\n",
    "\n",
    "        x = self.conv3(x)\n",
    "        x = self.relu3(x)\n",
    "\n",
    "        x = self.conv4(x)\n",
    "        x = self.sigmoid(x)\n",
    "        return x"
   ]
  },
  {
   "cell_type": "markdown",
   "metadata": {},
   "source": [
    "## Implementing the Generator"
   ]
  },
  {
   "cell_type": "code",
   "execution_count": 7,
   "metadata": {},
   "outputs": [],
   "source": [
    "# Quantum simulator\n",
    "dev = qml.device(\"lightning.gpu\", wires=10, batch_obs=True)\n",
    "# dev_9bit = qml.device(\"default.qubit\", wires=9)\n",
    "\n",
    "# Enable CUDA device if available\n",
    "device = torch.device(\"cuda:0\" if torch.cuda.is_available() else \"cpu\")\n",
    "# device = torch.device('cpu')"
   ]
  },
  {
   "cell_type": "code",
   "execution_count": 8,
   "metadata": {},
   "outputs": [],
   "source": [
    "@qml.qnode(dev, interface=\"torch\", diff_method=\"parameter-shift\")\n",
    "def quantum_circuit(inputs, weight):\n",
    "    q_depth, n_qubits = weight.shape\n",
    "\n",
    "    # Initialise latent vectors\n",
    "    for i in range(n_qubits):\n",
    "        qml.RY(inputs[i], wires=i)\n",
    "\n",
    "    # Repeated layer\n",
    "    for i in range(q_depth):\n",
    "        # Parameterised layer\n",
    "        for y in range(n_qubits):\n",
    "            qml.RY(weight[i][y], wires=y)\n",
    "\n",
    "        # Control Z gates\n",
    "        for y in range(n_qubits - 1):\n",
    "            qml.CZ(wires=[y, y + 1])\n",
    "\n",
    "    return qml.probs(wires=list(range(n_qubits)))"
   ]
  },
  {
   "cell_type": "code",
   "execution_count": 9,
   "metadata": {},
   "outputs": [],
   "source": [
    "class QuantumLinear(nn.Module):\n",
    "    def __init__(self, in_size, n_ancilla=0, q_depth=5, q_delta=1):\n",
    "        super().__init__()\n",
    "        \n",
    "        self.patch_size = 2 ** ((in_size - n_ancilla) // 2)\n",
    "        self.partial_size = 2 ** ((in_size - n_ancilla))\n",
    "\n",
    "        weight_shape = {'weight': (q_depth, in_size)}\n",
    "        self.qlayer = qml.qnn.TorchLayer(quantum_circuit, weight_shape)\n",
    "    \n",
    "    def forward(self, x):        \n",
    "        batch = torch.cat([\n",
    "            self.qlayer(elem.contiguous().view(-1))[:self.partial_size]\n",
    "                .view(1, 1, self.patch_size, self.patch_size)\n",
    "            for elem in x\n",
    "        ]).to(device)\n",
    "        return batch / batch.max()"
   ]
  },
  {
   "cell_type": "code",
   "execution_count": 10,
   "metadata": {},
   "outputs": [],
   "source": [
    "class PatchQuantumGenerator(nn.Module):\n",
    "    \"\"\"Quantum generator class for the patch method\"\"\"\n",
    "\n",
    "    def __init__(self, in_size, out_size, n_ancilla=0):\n",
    "        super().__init__()\n",
    "\n",
    "        self.in_size = in_size\n",
    "        self.patch_size = 2 ** ((in_size - n_ancilla) // 2)\n",
    "        self.sqrt_n_subgen = out_size // self.patch_size\n",
    "        self.n_subgen = self.sqrt_n_subgen ** 2\n",
    "\n",
    "        self.layers = nn.ModuleList([\n",
    "            QuantumLinear(in_size, n_ancilla)\n",
    "            for _ in range(self.n_subgen)\n",
    "        ])\n",
    "\n",
    "    def forward(self, x):\n",
    "        batch = torch.cat([\n",
    "            torch.cat([\n",
    "                self.layers[i+j*self.sqrt_n_subgen](x)\n",
    "                for i in range(self.sqrt_n_subgen)\n",
    "            ], dim=-2)\n",
    "            for j in range(self.sqrt_n_subgen)\n",
    "        ], dim=-1)\n",
    "        return batch"
   ]
  },
  {
   "cell_type": "markdown",
   "metadata": {},
   "source": [
    "## Training"
   ]
  },
  {
   "cell_type": "code",
   "execution_count": 11,
   "metadata": {},
   "outputs": [],
   "source": [
    "lrG = 0.3  # Learning rate for the generator\n",
    "lrD = 0.1  # Learning rate for the discriminator\n",
    "num_iter = 500   # Number of training iterations\n",
    "\n",
    "latent_size = 10"
   ]
  },
  {
   "cell_type": "code",
   "execution_count": 12,
   "metadata": {},
   "outputs": [
    {
     "name": "stdout",
     "output_type": "stream",
     "text": [
      "Iteration: 1, Discriminator Loss: 1.389, Generator Loss: 0.694\n",
      "Iteration: 2, Discriminator Loss: 1.389, Generator Loss: 0.693\n",
      "Iteration: 3, Discriminator Loss: 1.388, Generator Loss: 0.693\n",
      "Iteration: 4, Discriminator Loss: 1.387, Generator Loss: 0.694\n",
      "Iteration: 5, Discriminator Loss: 1.384, Generator Loss: 0.693\n",
      "Iteration: 6, Discriminator Loss: 1.386, Generator Loss: 0.694\n",
      "Iteration: 7, Discriminator Loss: 1.387, Generator Loss: 0.694\n"
     ]
    }
   ],
   "source": [
    "discriminator = Discriminator().to(device)\n",
    "generator = PatchQuantumGenerator(latent_size, image_size).to(device)\n",
    "\n",
    "# Binary cross entropy\n",
    "criterion = nn.BCELoss()\n",
    "\n",
    "# Optimisers\n",
    "optD = optim.SGD(discriminator.parameters(), lr=lrD)\n",
    "optG = optim.SGD(generator.parameters(), lr=lrG)\n",
    "\n",
    "real_labels = torch.full((batch_size,), 1.0, dtype=torch.float, device=device)\n",
    "fake_labels = torch.full((batch_size,), 0.0, dtype=torch.float, device=device)\n",
    "\n",
    "# Fixed noise allows us to visually track the generated images throughout training\n",
    "fixed_noise = torch.rand(1, latent_size, device=device) * math.pi / 2\n",
    "\n",
    "# Iteration counter\n",
    "counter = 0\n",
    "\n",
    "# Collect images for plotting later\n",
    "results = []\n",
    "\n",
    "while True:\n",
    "    for i, (data, _) in enumerate(dataloader):\n",
    "\n",
    "        # Data for training the discriminator\n",
    "        data = data.reshape(-1, image_size * image_size)\n",
    "        real_data = data.view(-1, color_channel, 256, 256).to(device)\n",
    "\n",
    "        # Noise follwing a uniform distribution in range [0,pi/2)\n",
    "        noise = torch.rand(batch_size, latent_size, device=device) * math.pi / 2\n",
    "        fake_data = generator(noise)\n",
    "\n",
    "        # Training the discriminator\n",
    "        discriminator.zero_grad()\n",
    "        outD_real = discriminator(real_data).view(-1)\n",
    "        outD_fake = discriminator(fake_data.detach()).view(-1)\n",
    "\n",
    "        errD_real = criterion(outD_real, real_labels)\n",
    "        errD_fake = criterion(outD_fake, fake_labels)\n",
    "        # Propagate gradients\n",
    "        errD_real.backward()\n",
    "        errD_fake.backward()\n",
    "\n",
    "        errD = errD_real + errD_fake\n",
    "        optD.step()\n",
    "\n",
    "        # Training the generator\n",
    "        generator.zero_grad()\n",
    "        \n",
    "        outD_fake = discriminator(fake_data).view(-1)\n",
    "        errG = criterion(outD_fake, real_labels)\n",
    "        errG.backward()\n",
    "        optG.step()\n",
    "\n",
    "        counter += 1\n",
    "\n",
    "        # Show loss values\n",
    "        print(f'Iteration: {counter}, Discriminator Loss: {errD:0.3f}, Generator Loss: {errG:0.3f}')\n",
    "        if counter % 10 == 0:\n",
    "            # Save images every 10 iterations\n",
    "            test_image = generator(fixed_noise).view(color_channel, image_size, image_size).permute(1, 2, 0).cpu().detach()\n",
    "            results.append(test_image)\n",
    "            plt.imshow(test_image)\n",
    "            plt.axis('off')\n",
    "            plt.show()\n",
    "            \n",
    "            \n",
    "        if counter == num_iter:\n",
    "            break\n",
    "    if counter == num_iter:\n",
    "        break"
   ]
  }
 ],
 "metadata": {
  "kernelspec": {
   "display_name": "Python 3.10.4 ('ionq')",
   "language": "python",
   "name": "python3"
  },
  "language_info": {
   "codemirror_mode": {
    "name": "ipython",
    "version": 3
   },
   "file_extension": ".py",
   "mimetype": "text/x-python",
   "name": "python",
   "nbconvert_exporter": "python",
   "pygments_lexer": "ipython3",
   "version": "3.10.4"
  },
  "orig_nbformat": 4,
  "vscode": {
   "interpreter": {
    "hash": "c44584f7be189585c8a170770c7fb8c5b5f75b249717f7352c0a1a137c1dbbf2"
   }
  }
 },
 "nbformat": 4,
 "nbformat_minor": 2
}
