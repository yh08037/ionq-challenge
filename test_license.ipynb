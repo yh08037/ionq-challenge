{
 "cells": [
  {
   "cell_type": "code",
   "execution_count": 1,
   "metadata": {},
   "outputs": [],
   "source": [
    "from qiskit_ionq import IonQProvider\n",
    "provider = IonQProvider(\"your_private_token\")"
   ]
  },
  {
   "cell_type": "code",
   "execution_count": 2,
   "metadata": {},
   "outputs": [
    {
     "name": "stdout",
     "output_type": "stream",
     "text": [
      "[<IonQSimulatorBackend('ionq_simulator')>, <IonQQPUBackend('ionq_qpu')>]\n"
     ]
    }
   ],
   "source": [
    "# Show all backends:\n",
    "print(provider.backends())"
   ]
  },
  {
   "cell_type": "markdown",
   "metadata": {},
   "source": [
    "## Simmulator"
   ]
  },
  {
   "cell_type": "code",
   "execution_count": 3,
   "metadata": {},
   "outputs": [],
   "source": [
    "# Get IonQ's simulator backend:\n",
    "simulator_backend = provider.get_backend(\"ionq_simulator\")"
   ]
  },
  {
   "cell_type": "code",
   "execution_count": 4,
   "metadata": {},
   "outputs": [
    {
     "name": "stdout",
     "output_type": "stream",
     "text": [
      "{'00': 4935, '11': 5065}\n"
     ]
    }
   ],
   "source": [
    "from qiskit import QuantumCircuit\n",
    "\n",
    "# Create a basic Bell State circuit:\n",
    "qc = QuantumCircuit(2, 2)\n",
    "qc.h(0)\n",
    "qc.cx(0, 1)\n",
    "qc.measure([0, 1], [0, 1])\n",
    "\n",
    "# Run the circuit on IonQ's platform:\n",
    "job = simulator_backend.run(qc, shots=10000) \n",
    "\n",
    "# Print the counts\n",
    "print(job.get_counts())"
   ]
  },
  {
   "cell_type": "code",
   "execution_count": 5,
   "metadata": {},
   "outputs": [
    {
     "name": "stdout",
     "output_type": "stream",
     "text": [
      "{'00': 0.5, '11': 0.5}\n"
     ]
    }
   ],
   "source": [
    "# The simulator provides the ideal probabilities from the circuit, and the provider\n",
    "# creates “counts” by randomly sampling from these probabilities. The raw (“true”)\n",
    "# probabilities are also accessible by calling get_probabilities():\n",
    "print(job.get_probabilities())"
   ]
  },
  {
   "cell_type": "markdown",
   "metadata": {},
   "source": [
    "## Hardware (QPU)"
   ]
  },
  {
   "cell_type": "code",
   "execution_count": 6,
   "metadata": {},
   "outputs": [],
   "source": [
    "qpu_backend = provider.get_backend(\"ionq_qpu\")\n",
    "qpu_job = qpu_backend.run(qc) # if you don’t pass a shots kwarg, it defaults to 1024"
   ]
  },
  {
   "cell_type": "code",
   "execution_count": null,
   "metadata": {},
   "outputs": [],
   "source": [
    "from qiskit.providers.jobstatus import JobStatus\n",
    "import time\n",
    "# Check if job is done\n",
    "while qpu_job.status() is not JobStatus.DONE:\n",
    "\tprint(\"Job status is\", qpu_job.status() )\n",
    "\ttime.sleep(60)\n",
    "\n",
    "# grab a coffee! This can take up to a few minutes.\n",
    "# once we break out of that while loop, we know our job is finished\n",
    "print(\"Job status is\", qpu_job.status() )\n",
    "print(qpu_job.get_counts()) # these counts are the “true” counts from the actual QPU Run"
   ]
  },
  {
   "cell_type": "code",
   "execution_count": null,
   "metadata": {},
   "outputs": [],
   "source": [
    "# for ease of use, the output probabilities (counts/shots) are still available:\n",
    "print(qpu_job.get_probabilities())"
   ]
  }
 ],
 "metadata": {
  "kernelspec": {
   "display_name": "Python 3.10.4 ('ionq')",
   "language": "python",
   "name": "python3"
  },
  "language_info": {
   "codemirror_mode": {
    "name": "ipython",
    "version": 3
   },
   "file_extension": ".py",
   "mimetype": "text/x-python",
   "name": "python",
   "nbconvert_exporter": "python",
   "pygments_lexer": "ipython3",
   "version": "3.10.4"
  },
  "orig_nbformat": 4,
  "vscode": {
   "interpreter": {
    "hash": "c44584f7be189585c8a170770c7fb8c5b5f75b249717f7352c0a1a137c1dbbf2"
   }
  }
 },
 "nbformat": 4,
 "nbformat_minor": 2
}
