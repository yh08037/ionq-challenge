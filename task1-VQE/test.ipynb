{
 "cells": [
  {
   "cell_type": "code",
   "execution_count": 1,
   "metadata": {},
   "outputs": [],
   "source": [
    "from qiskit_nature.circuit.library import UCCSD\n",
    "from qiskit_nature.mappers.second_quantization import JordanWignerMapper"
   ]
  },
  {
   "cell_type": "code",
   "execution_count": 11,
   "metadata": {},
   "outputs": [
    {
     "ename": "AttributeError",
     "evalue": "'JordanWignerMapper' object has no attribute 'convert_match'",
     "output_type": "error",
     "traceback": [
      "\u001b[0;31m---------------------------------------------------------------------------\u001b[0m",
      "\u001b[0;31mAttributeError\u001b[0m                            Traceback (most recent call last)",
      "Cell \u001b[0;32mIn [11], line 1\u001b[0m\n\u001b[0;32m----> 1\u001b[0m UCCSD(\n\u001b[1;32m      2\u001b[0m   qubit_converter\u001b[38;5;241m=\u001b[39mJordanWignerMapper(),\n\u001b[1;32m      3\u001b[0m   num_particles\u001b[38;5;241m=\u001b[39m(\u001b[38;5;241m2\u001b[39m, \u001b[38;5;241m2\u001b[39m),\n\u001b[1;32m      4\u001b[0m   num_spin_orbitals\u001b[38;5;241m=\u001b[39m\u001b[38;5;241m5\u001b[39m\n\u001b[1;32m      5\u001b[0m )\u001b[38;5;241m.\u001b[39mdraw()\n",
      "File \u001b[0;32m~/anaconda3/envs/ionq/lib/python3.10/site-packages/qiskit_nature/circuit/library/ansatzes/uccsd.py:54\u001b[0m, in \u001b[0;36mUCCSD.__init__\u001b[0;34m(self, qubit_converter, num_particles, num_spin_orbitals, reps, initial_state, generalized, preserve_spin)\u001b[0m\n\u001b[1;32m     29\u001b[0m \u001b[39mdef\u001b[39;00m \u001b[39m__init__\u001b[39m(\n\u001b[1;32m     30\u001b[0m     \u001b[39mself\u001b[39m,\n\u001b[1;32m     31\u001b[0m     qubit_converter: Optional[QubitConverter] \u001b[39m=\u001b[39m \u001b[39mNone\u001b[39;00m,\n\u001b[0;32m   (...)\u001b[0m\n\u001b[1;32m     37\u001b[0m     preserve_spin: \u001b[39mbool\u001b[39m \u001b[39m=\u001b[39m \u001b[39mTrue\u001b[39;00m,\n\u001b[1;32m     38\u001b[0m ):\n\u001b[1;32m     39\u001b[0m     \u001b[39m\"\"\"\u001b[39;00m\n\u001b[1;32m     40\u001b[0m \u001b[39m    Args:\u001b[39;00m\n\u001b[1;32m     41\u001b[0m \u001b[39m        qubit_converter: the QubitConverter instance which takes care of mapping a\u001b[39;00m\n\u001b[0;32m   (...)\u001b[0m\n\u001b[1;32m     52\u001b[0m \u001b[39m        preserve_spin: Boolean flag whether or not to preserve the particle spins.\u001b[39;00m\n\u001b[1;32m     53\u001b[0m \u001b[39m    \"\"\"\u001b[39;00m\n\u001b[0;32m---> 54\u001b[0m     \u001b[39msuper\u001b[39;49m()\u001b[39m.\u001b[39;49m\u001b[39m__init__\u001b[39;49m(\n\u001b[1;32m     55\u001b[0m         qubit_converter\u001b[39m=\u001b[39;49mqubit_converter,\n\u001b[1;32m     56\u001b[0m         num_particles\u001b[39m=\u001b[39;49mnum_particles,\n\u001b[1;32m     57\u001b[0m         num_spin_orbitals\u001b[39m=\u001b[39;49mnum_spin_orbitals,\n\u001b[1;32m     58\u001b[0m         excitations\u001b[39m=\u001b[39;49m\u001b[39m\"\u001b[39;49m\u001b[39msd\u001b[39;49m\u001b[39m\"\u001b[39;49m,\n\u001b[1;32m     59\u001b[0m         alpha_spin\u001b[39m=\u001b[39;49m\u001b[39mTrue\u001b[39;49;00m,\n\u001b[1;32m     60\u001b[0m         beta_spin\u001b[39m=\u001b[39;49m\u001b[39mTrue\u001b[39;49;00m,\n\u001b[1;32m     61\u001b[0m         max_spin_excitation\u001b[39m=\u001b[39;49m\u001b[39mNone\u001b[39;49;00m,\n\u001b[1;32m     62\u001b[0m         generalized\u001b[39m=\u001b[39;49mgeneralized,\n\u001b[1;32m     63\u001b[0m         preserve_spin\u001b[39m=\u001b[39;49mpreserve_spin,\n\u001b[1;32m     64\u001b[0m         reps\u001b[39m=\u001b[39;49mreps,\n\u001b[1;32m     65\u001b[0m         initial_state\u001b[39m=\u001b[39;49minitial_state,\n\u001b[1;32m     66\u001b[0m     )\n",
      "File \u001b[0;32m~/anaconda3/envs/ionq/lib/python3.10/site-packages/qiskit_nature/circuit/library/ansatzes/ucc.py:200\u001b[0m, in \u001b[0;36mUCC.__init__\u001b[0;34m(self, qubit_converter, num_particles, num_spin_orbitals, excitations, alpha_spin, beta_spin, max_spin_excitation, generalized, preserve_spin, reps, initial_state)\u001b[0m\n\u001b[1;32m    193\u001b[0m \u001b[39mself\u001b[39m\u001b[39m.\u001b[39m_excitation_ops: \u001b[39mlist\u001b[39m[SecondQuantizedOp] \u001b[39m=\u001b[39m \u001b[39mNone\u001b[39;00m\n\u001b[1;32m    195\u001b[0m \u001b[39m# Our parent, EvolvedOperatorAnsatz, sets qregs when it knows the\u001b[39;00m\n\u001b[1;32m    196\u001b[0m \u001b[39m# number of qubits, which it gets from the operators. Getting the\u001b[39;00m\n\u001b[1;32m    197\u001b[0m \u001b[39m# operators here will build them if configuration already allows.\u001b[39;00m\n\u001b[1;32m    198\u001b[0m \u001b[39m# This will allow the circuit to be fully built/valid when it's\u001b[39;00m\n\u001b[1;32m    199\u001b[0m \u001b[39m# possible at this stage.\u001b[39;00m\n\u001b[0;32m--> 200\u001b[0m _ \u001b[39m=\u001b[39m \u001b[39mself\u001b[39;49m\u001b[39m.\u001b[39;49moperators\n",
      "File \u001b[0;32m~/anaconda3/envs/ionq/lib/python3.10/site-packages/qiskit_nature/circuit/library/ansatzes/ucc.py:294\u001b[0m, in \u001b[0;36mUCC.operators\u001b[0;34m(self)\u001b[0m\n\u001b[1;32m    286\u001b[0m logger\u001b[39m.\u001b[39mdebug(\u001b[39m\"\u001b[39m\u001b[39mConverting SecondQuantizedOps into PauliSumOps...\u001b[39m\u001b[39m\"\u001b[39m)\n\u001b[1;32m    287\u001b[0m \u001b[39m# Convert operators according to saved state in converter from the conversion of the\u001b[39;00m\n\u001b[1;32m    288\u001b[0m \u001b[39m# main operator since these need to be compatible. If Z2 Symmetry tapering was done\u001b[39;00m\n\u001b[1;32m    289\u001b[0m \u001b[39m# it may be that one or more excitation operators do not commute with the symmetry.\u001b[39;00m\n\u001b[0;32m   (...)\u001b[0m\n\u001b[1;32m    292\u001b[0m \u001b[39m# the ``excitation_list`` is transformed identically to the operators, we retain\u001b[39;00m\n\u001b[1;32m    293\u001b[0m \u001b[39m# ``None`` for non-commuting operators in order to manually remove them in unison.\u001b[39;00m\n\u001b[0;32m--> 294\u001b[0m operators \u001b[39m=\u001b[39m \u001b[39mself\u001b[39;49m\u001b[39m.\u001b[39;49mqubit_converter\u001b[39m.\u001b[39;49mconvert_match(excitation_ops, suppress_none\u001b[39m=\u001b[39m\u001b[39mFalse\u001b[39;00m)\n\u001b[1;32m    295\u001b[0m valid_operators, valid_excitations \u001b[39m=\u001b[39m [], []\n\u001b[1;32m    296\u001b[0m \u001b[39mfor\u001b[39;00m op, ex \u001b[39min\u001b[39;00m \u001b[39mzip\u001b[39m(operators, \u001b[39mself\u001b[39m\u001b[39m.\u001b[39m_excitation_list):\n",
      "\u001b[0;31mAttributeError\u001b[0m: 'JordanWignerMapper' object has no attribute 'convert_match'"
     ]
    }
   ],
   "source": [
    "UCCSD(\n",
    "  qubit_converter=JordanWignerMapper(),\n",
    "  num_particles=(2, 2),\n",
    "  num_spin_orbitals=5\n",
    ").draw()"
   ]
  },
  {
   "cell_type": "code",
   "execution_count": null,
   "metadata": {},
   "outputs": [],
   "source": []
  }
 ],
 "metadata": {
  "kernelspec": {
   "display_name": "Python 3.10.4 ('ionq')",
   "language": "python",
   "name": "python3"
  },
  "language_info": {
   "codemirror_mode": {
    "name": "ipython",
    "version": 3
   },
   "file_extension": ".py",
   "mimetype": "text/x-python",
   "name": "python",
   "nbconvert_exporter": "python",
   "pygments_lexer": "ipython3",
   "version": "3.10.4"
  },
  "orig_nbformat": 4,
  "vscode": {
   "interpreter": {
    "hash": "c44584f7be189585c8a170770c7fb8c5b5f75b249717f7352c0a1a137c1dbbf2"
   }
  }
 },
 "nbformat": 4,
 "nbformat_minor": 2
}
